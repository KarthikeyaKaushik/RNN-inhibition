{
 "cells": [
  {
   "cell_type": "code",
   "execution_count": 88,
   "metadata": {},
   "outputs": [],
   "source": [
    "import os\n",
    "import numpy as np\n",
    "from keras import optimizers\n",
    "from keras.callbacks import ModelCheckpoint, Callback\n",
    "from keras.layers import Input, Embedding, LSTM, Dense, concatenate, dot, multiply, Lambda\n",
    "from keras.models import Model, Sequential, load_model\n",
    "from keras.layers.wrappers import TimeDistributed\n",
    "from keras.utils import to_categorical\n",
    "from keras import backend as K\n",
    "from keras import initializers\n",
    "from random import shuffle\n",
    "import csv\n",
    "import matplotlib.pyplot as plt\n",
    "from matplotlib.ticker import MultipleLocator\n",
    "from pathlib import Path\n",
    "random.seed(999)\n",
    "EMBEDDINGS_PATH = os.path.join(Path(os.getcwd()).parent,'Data\\\\dic_word2vec_ding_new.npy')\n",
    "SENTENCES_PATH = os.path.join(Path(os.getcwd()).parent,'Data\\\\Ding_grammatical.csv')"
   ]
  },
  {
   "cell_type": "code",
   "execution_count": null,
   "metadata": {},
   "outputs": [],
   "source": [
    "# power spectra function\n",
    "def power_spectra(w2vec_array, sampling_rate=16):\n",
    "    \"\"\"Computes power spectra using the Discrete Fourier Transform.\n",
    "\n",
    "    Args:\n",
    "        w2vec_array: arrays of shape (n_sentences*time_steps, n_units)\n",
    "            representing hidden layer activations in response to each word of the\n",
    "            concatenated sequence of sentences.\n",
    "        sample_rate: number of measures (outputs of the model) per second.\n",
    "\n",
    "    Returns:\n",
    "        Mean power spectra and frequency axis.\n",
    "    \"\"\"\n",
    "\n",
    "    # Separate each unit and concatenate across words to form 1 vector per unit\n",
    "    unit_vectors = np.transpose(w2vec_array)\n",
    "\n",
    "    # Frequency domain\n",
    "    # num_samples is just the number of data points for each unit\n",
    "    num_samples = unit_vectors.shape[1]\n",
    "    freq = np.fft.rfftfreq(num_samples, d=1./sampling_rate)\n",
    "    print ('freq ' ,freq.shape)\n",
    "    # Calculate the FFT and power spectra for each unit\n",
    "    units_ps = []\n",
    "    for vector in unit_vectors:\n",
    "        ft_unit = np.fft.rfft(vector)  # fft\n",
    "        ps_uni = np.abs(ft_unit) ** 2  # power spectrum\n",
    "        units_ps.append(ps_uni)\n",
    "\n",
    "    # Average power spectra over units\n",
    "    mean_ps = np.mean(units_ps, axis=0)\n",
    "    print ('mean_ps',mean_ps.shape)\n",
    "    return freq, mean_ps"
   ]
  },
  {
   "cell_type": "code",
   "execution_count": 6,
   "metadata": {},
   "outputs": [],
   "source": [
    "def plot_results(plot_name, freq, power, act,sampling_rate=20,n_samples=60):\n",
    "    \"\"\"Plot all the results of one condition\"\"\"\n",
    "\n",
    "    # Time domain parameters\n",
    "    sampling_interval = 1.0/sampling_rate  # sampling interval\n",
    "    t = np.arange(0, n_samples, sampling_interval)  # time vector\n",
    "    # Build plot\n",
    "    fig, ax = plt.subplots(nrows=2, ncols=1)\n",
    "    ax[0].plot(t, act, linewidth=1.0)\n",
    "    # Axis labels\n",
    "    ax[0].set_xlabel('Time')\n",
    "    ax[0].set_ylabel('Activation')\n",
    "\n",
    "    ax[1].plot(freq[1:], power[1:], 'r', linewidth=1.0)\n",
    "    ax[1].set_xlabel('Freq (Hz)')\n",
    "    ax[1].set_ylabel('Power')\n",
    "\n",
    "    # Adjusts subplot\n",
    "    plt.tight_layout()\n",
    "    # Save\n",
    "    fig.savefig(plot_name+'.pdf')\n"
   ]
  },
  {
   "cell_type": "code",
   "execution_count": 80,
   "metadata": {},
   "outputs": [],
   "source": [
    "def get_embedding_masks():\n",
    "    '''\n",
    "    Mask dimensions according to the FY paradigm (without the noise), and get 50 time step representations for each word\n",
    "    '''\n",
    "    random.seed(999)\n",
    "    mask_embeddings = {}\n",
    "    word_embeddings = np.load(EMBEDDINGS_PATH, allow_pickle=True).item()\n",
    "    embedding_dim = word_embeddings['rat'].shape[0]\n",
    "    words_rep = {}\n",
    "    for key in word_embeddings.keys():\n",
    "        word_rep = np.zeros((embedding_dim,50))\n",
    "        mask_embeddings[key] = np.random.uniform(low=40-25,high=40+25,size=(embedding_dim,))\n",
    "        for i in range(50):\n",
    "            mask = (mask_embeddings[key] < (i*5)) * word_embeddings[key]\n",
    "            word_rep[:,i] = mask\n",
    "        words_rep[key] = word_rep\n",
    "    return words_rep"
   ]
  },
  {
   "cell_type": "code",
   "execution_count": null,
   "metadata": {},
   "outputs": [],
   "source": [
    "def gen_data():\n",
    "    random.seed(999)\n",
    "    word_representations = get_embedding_masks()\n",
    "    with open('Data/Ding_grammatical.csv', 'r') as f:\n",
    "        sentence_list = [row for row in csv.reader(f)]\n",
    "    "
   ]
  },
  {
   "cell_type": "code",
   "execution_count": 5,
   "metadata": {},
   "outputs": [],
   "source": [
    "def participants_gen(synt_out=True, wave_out=False, repeat_words=True, train_gen=True,\n",
    "                    train_what='phrase'):\n",
    "    \"\"\"Generates batches of sentences corresponding to the grammatical condition\n",
    "    of Ding et all (2016). The Input words correspond to Word2Vec representations\n",
    "    from Frank & Yang (2018).\n",
    "\n",
    "    Input structure:    start, adj,  noun, verb, noun.\n",
    "    Criteria structure: adj,   noun, verb, noun, end.\n",
    "\n",
    "\n",
    "    Returns:\n",
    "        A tuple of inputs and labels for training.\n",
    "    \"\"\"\n",
    "    random.seed(999)\n",
    "    # Load dictionaries\n",
    "    with open('Data/dictionaries.p', 'rb') as fp:\n",
    "        d_list = pickle.load(fp)\n",
    "\n",
    "    # Assign dictionary based on participant id\n",
    "    p_dic = d_list[p_id]\n",
    "    \n",
    "    # Load words as lists\n",
    "    with open('Data/Ding_grammatical.csv', 'r') as f:\n",
    "        sentence_list = [row for row in csv.reader(f)]\n",
    "\n",
    "    while True:\n",
    "        # Shuffle sentence list every time\n",
    "        shuffle(sentence_list)\n",
    "\n",
    "        # Lists to store inputs and labels\n",
    "        input_batch = []\n",
    "        output_batch = []\n",
    "        synt_codes_batch = []\n",
    "        phrase_or_not_list = []\n",
    "        sentence_or_not_list = []\n",
    "        for sent in sentence_list:\n",
    "            # Repeat words or fill with 'NONE'\n",
    "            if repeat_words:\n",
    "                # 50 ms sample time, 20 samples/second\n",
    "                input_words = ['NONE', sent[0], sent[0], sent[0], sent[0],\n",
    "                               'NONE', sent[1], sent[1], sent[1], sent[1],\n",
    "                               'NONE', sent[2], sent[2], sent[2], sent[2],\n",
    "                               'NONE', sent[3], sent[3], sent[3], sent[3]]\n",
    "                '''\n",
    "                input_words = [sent[0], sent[0], sent[0], sent[0],\n",
    "                               sent[1], sent[1], sent[1], sent[1],\n",
    "                               sent[2], sent[2], sent[2], sent[2],\n",
    "                               sent[3], sent[3], sent[3], sent[3]]\n",
    "                '''\n",
    "\n",
    "            else:\n",
    "                input_words = ['START', 'NONE', 'NONE', 'NONE', sent[0],\n",
    "                               'NONE', 'NONE', 'NONE', 'NONE', sent[1],\n",
    "                               'NONE', 'NONE', 'NONE', 'NONE', sent[2],\n",
    "                               'NONE', 'NONE', 'NONE', 'NONE', sent[3]]\n",
    "            '''\n",
    "            output_words = ['NONE', 'NONE', 'NONE', sent[0], 'NONE',\n",
    "                            'NONE', 'NONE', 'NONE', sent[1], 'NONE',\n",
    "                            'NONE', 'NONE', 'NONE', sent[2], 'NONE',\n",
    "                            'NONE', 'NONE', 'NONE', sent[3], 'END',]\n",
    "\n",
    "            '''\n",
    "                \n",
    "            output_words = [sent[0], sent[0], sent[0], sent[0], 'NONE',\n",
    "                            sent[1], sent[1], sent[1], sent[1], 'NONE',\n",
    "                            sent[2], sent[2], sent[2], sent[2], 'NONE',\n",
    "                            sent[3], sent[3], sent[3], sent[3], 'END']\n",
    "\n",
    "            if train_what == 'phrase':\n",
    "                phrase_or_not = [1,1,1,1,1,\n",
    "                                 1,0,0,0,0,\n",
    "                                 1,1,1,1,1,\n",
    "                                 1,0,0,0,0]\n",
    "                phrase_or_not_list.append(phrase_or_not)\n",
    "\n",
    "            if train_what == 'sentence':    \n",
    "                sentence_or_not = [1,1,1,1,1,\n",
    "                                   1,1,1,1,1,\n",
    "                                   1,1,1,1,1,\n",
    "                                   1,0,0,0,0]\n",
    "                sentence_or_not_list.append(sentence_or_not)\n",
    "\n",
    "            '''\n",
    "            if train_what == 'phrase':\n",
    "                phrase_or_not = [0,0,0,0,0,\n",
    "                                 1,1,1,1,1,\n",
    "                                 0,0,0,0,0,\n",
    "                                 1,1,1,1,1]\n",
    "                phrase_or_not_list.append(phrase_or_not)\n",
    "            \n",
    "            if train_what == 'sentence':    \n",
    "                sentence_or_not = [0,0,0,0,0,\n",
    "                                   0,0,0,0,0,\n",
    "                                   0,0,0,0,0,\n",
    "                                   1,1,1,1,1]\n",
    "                sentence_or_not_list.append(sentence_or_not)\n",
    "            '''\n",
    "\n",
    "            # Generate one-hot representation of words for output (the model takes as input the indexes directly)\n",
    "            input_vectors = [p_dic[word] for word in input_words]\n",
    "            output_vectors = [np.eye(334)[d_words_g[word]] for word in output_words]\n",
    "\n",
    "            # Append to batch lists\n",
    "            input_batch.append(input_vectors)\n",
    "            output_batch.append(output_vectors)\n",
    "\n",
    "\n",
    "        # split into train and test data generator\n",
    "        if train_gen == True:\n",
    "            if train_what == 'phrase':\n",
    "                yield np.array(input_batch[0:50]),[np.array(output_batch[0:50]),\n",
    "                                               np.expand_dims(np.array(phrase_or_not_list[0:50]),axis=2)]\n",
    "            if train_what == 'sentence':\n",
    "                yield np.array(input_batch[0:50]),[np.array(output_batch[0:50]),\n",
    "                                               np.expand_dims(np.array(sentence_or_not_list[0:50]),axis=2)]\n",
    "            if train_what == 'None':\n",
    "                yield np.array(input_batch[0:50]),np.array(output_batch[0:50])\n",
    "        else:\n",
    "            yield np.array(input_batch[50:]),np.array(output_batch[50:])\n",
    "            \n",
    "            \n",
    "            \n",
    "            "
   ]
  },
  {
   "cell_type": "code",
   "execution_count": 6,
   "metadata": {},
   "outputs": [
    {
     "name": "stdout",
     "output_type": "stream",
     "text": [
      "Model: \"model_1\"\n",
      "_________________________________________________________________\n",
      "Layer (type)                 Output Shape              Param #   \n",
      "=================================================================\n",
      "vec_in (InputLayer)          (None, 20, 334)           0         \n",
      "_________________________________________________________________\n",
      "lstm1 (LSTM)                 (None, 20, 100)           174000    \n",
      "_________________________________________________________________\n",
      "next_word (Dense)            (None, 20, 334)           33734     \n",
      "=================================================================\n",
      "Total params: 207,734\n",
      "Trainable params: 207,734\n",
      "Non-trainable params: 0\n",
      "_________________________________________________________________\n",
      "None\n",
      "Epoch 1/4\n",
      "100/100 [==============================] - 78s 777ms/step - loss: 0.0028\n",
      "Epoch 2/4\n",
      "100/100 [==============================] - 75s 755ms/step - loss: 0.0022\n",
      "Epoch 3/4\n",
      "100/100 [==============================] - 82s 816ms/step - loss: 0.0019\n",
      "Epoch 4/4\n",
      "100/100 [==============================] - 78s 785ms/step - loss: 0.0016\n"
     ]
    },
    {
     "data": {
      "text/plain": [
       "<keras.callbacks.callbacks.History at 0xb38ed9890>"
      ]
     },
     "execution_count": 6,
     "metadata": {},
     "output_type": "execute_result"
    }
   ],
   "source": [
    "# build and return layer 1 of model\n",
    "PID = 11\n",
    "train_data_gen = participants_gen(p_id=PID,synt_out=False,wave_out=False,train_gen=True,repeat_words=False,train_what='None')\n",
    "vec_in = Input(shape=(20, 334), dtype='float32', name='vec_in')\n",
    "lstm1 = LSTM(100, return_sequences=True, name='lstm1')(vec_in)\n",
    "next_word = Dense(334, name='next_word')(lstm1) # the last one is for word/not word prediction\n",
    "#phrase_or_not = Dense(1,name='phrase_not')(lstm1)\n",
    "model_1 = Model(inputs=vec_in,outputs=next_word)\n",
    "model_1.compile(loss='mean_squared_error', optimizer='adam')\n",
    "print(model_1.summary())\n",
    "model_1.fit_generator(generator=train_data_gen, steps_per_epoch=100, epochs=4,\n",
    "                                         verbose=1)"
   ]
  },
  {
   "cell_type": "code",
   "execution_count": 7,
   "metadata": {},
   "outputs": [],
   "source": [
    "filename_1 = 'Data/models/model_1_active_inhibition.h5'\n",
    "model_1.save(filename_1)"
   ]
  },
  {
   "cell_type": "code",
   "execution_count": 37,
   "metadata": {},
   "outputs": [
    {
     "name": "stdout",
     "output_type": "stream",
     "text": [
      "Model: \"model_14\"\n",
      "__________________________________________________________________________________________________\n",
      "Layer (type)                    Output Shape         Param #     Connected to                     \n",
      "==================================================================================================\n",
      "vec_in (InputLayer)             (None, 20, 334)      0                                            \n",
      "__________________________________________________________________________________________________\n",
      "lstm1 (LSTM)                    (None, 20, 100)      174000      vec_in[0][0]                     \n",
      "__________________________________________________________________________________________________\n",
      "lstm2 (LSTM)                    (None, 20, 100)      80400       lstm1[0][0]                      \n",
      "__________________________________________________________________________________________________\n",
      "next_word (Dense)               (None, 20, 334)      33734       lstm2[0][0]                      \n",
      "__________________________________________________________________________________________________\n",
      "phrase_not (Dense)              (None, 20, 1)        101         lstm2[0][0]                      \n",
      "==================================================================================================\n",
      "Total params: 288,235\n",
      "Trainable params: 288,235\n",
      "Non-trainable params: 0\n",
      "__________________________________________________________________________________________________\n",
      "Epoch 1/4\n",
      "100/100 [==============================] - 79s 795ms/step - loss: 0.9632 - next_word_loss: 0.0031 - phrase_not_loss: 0.9602\n",
      "Epoch 2/4\n",
      "100/100 [==============================] - 73s 730ms/step - loss: 0.5205 - next_word_loss: 0.0028 - phrase_not_loss: 0.5177\n",
      "Epoch 3/4\n",
      "100/100 [==============================] - 73s 728ms/step - loss: 0.1302 - next_word_loss: 0.0026 - phrase_not_loss: 0.1276\n",
      "Epoch 4/4\n",
      "100/100 [==============================] - 73s 727ms/step - loss: 0.0838 - next_word_loss: 0.0025 - phrase_not_loss: 0.0813\n"
     ]
    },
    {
     "data": {
      "text/plain": [
       "<keras.callbacks.callbacks.History at 0xb9e1d7f10>"
      ]
     },
     "execution_count": 37,
     "metadata": {},
     "output_type": "execute_result"
    }
   ],
   "source": [
    "PID = 11\n",
    "model_1 = load_model(filename_1)\n",
    "lstm_1_op = model_1.layers[-2].output\n",
    "lstm2 = LSTM(100, return_sequences=True, name='lstm2')(lstm_1_op)\n",
    "next_word = Dense(334, name='next_word')(lstm2)\n",
    "phrase_not = Dense(1,name='phrase_not')(lstm2)\n",
    "model_2 = Model(inputs=model_1.inputs,outputs=[next_word,phrase_not])\n",
    "model_2.summary()\n",
    "model_2.layers[1].trainable = False\n",
    "model_2.compile(loss=['mean_squared_error','binary_crossentropy'], optimizer='adam')\n",
    "train_data_gen = participants_gen(p_id=PID,synt_out=False,wave_out=False,train_gen=True,repeat_words=False,\n",
    "                                  train_what='phrase')\n",
    "model_2.fit_generator(generator=train_data_gen, steps_per_epoch=100, epochs=4,\n",
    "                                         verbose=1)\n"
   ]
  },
  {
   "cell_type": "code",
   "execution_count": 38,
   "metadata": {},
   "outputs": [],
   "source": [
    "filename_2 = 'Data/models/model_2_active_inhibition.h5'\n",
    "model_2.save(filename_2)"
   ]
  },
  {
   "cell_type": "code",
   "execution_count": 52,
   "metadata": {},
   "outputs": [
    {
     "ename": "ValueError",
     "evalue": "Layer next_word was called with an input that isn't a symbolic tensor. Received type: <class 'keras.layers.recurrent.LSTM'>. Full input: [<keras.layers.recurrent.LSTM object at 0xb4967f5d0>]. All inputs to the layer should be tensors.",
     "output_type": "error",
     "traceback": [
      "\u001b[0;31m---------------------------------------------------------------------------\u001b[0m",
      "\u001b[0;31mValueError\u001b[0m                                Traceback (most recent call last)",
      "\u001b[0;32m<ipython-input-52-db6aeea4f273>\u001b[0m in \u001b[0;36m<module>\u001b[0;34m()\u001b[0m\n\u001b[1;32m      7\u001b[0m \u001b[0minhibited_phrase\u001b[0m \u001b[0;34m=\u001b[0m \u001b[0mmultiply\u001b[0m\u001b[0;34m(\u001b[0m\u001b[0;34m[\u001b[0m\u001b[0mfull_signal\u001b[0m\u001b[0;34m,\u001b[0m\u001b[0mabs_pn\u001b[0m\u001b[0;34m]\u001b[0m\u001b[0;34m,\u001b[0m\u001b[0mname\u001b[0m\u001b[0;34m=\u001b[0m\u001b[0;34m'inhibited_phrase'\u001b[0m\u001b[0;34m)\u001b[0m\u001b[0;34m\u001b[0m\u001b[0m\n\u001b[1;32m      8\u001b[0m \u001b[0mlstm2\u001b[0m \u001b[0;34m=\u001b[0m \u001b[0mLSTM\u001b[0m\u001b[0;34m(\u001b[0m\u001b[0;36m100\u001b[0m\u001b[0;34m,\u001b[0m \u001b[0mreturn_sequences\u001b[0m\u001b[0;34m=\u001b[0m\u001b[0mTrue\u001b[0m\u001b[0;34m,\u001b[0m \u001b[0mname\u001b[0m\u001b[0;34m=\u001b[0m\u001b[0;34m'lstm2'\u001b[0m\u001b[0;34m)\u001b[0m\u001b[0;31m#(inhibited_phrase)\u001b[0m\u001b[0;34m\u001b[0m\u001b[0m\n\u001b[0;32m----> 9\u001b[0;31m \u001b[0mnext_word\u001b[0m \u001b[0;34m=\u001b[0m \u001b[0mDense\u001b[0m\u001b[0;34m(\u001b[0m\u001b[0;36m334\u001b[0m\u001b[0;34m,\u001b[0m \u001b[0mname\u001b[0m\u001b[0;34m=\u001b[0m\u001b[0;34m'next_word'\u001b[0m\u001b[0;34m)\u001b[0m\u001b[0;34m(\u001b[0m\u001b[0mlstm2\u001b[0m\u001b[0;34m)\u001b[0m\u001b[0;34m\u001b[0m\u001b[0m\n\u001b[0m\u001b[1;32m     10\u001b[0m \u001b[0msentence_not\u001b[0m \u001b[0;34m=\u001b[0m \u001b[0mDense\u001b[0m\u001b[0;34m(\u001b[0m\u001b[0;36m1\u001b[0m\u001b[0;34m,\u001b[0m\u001b[0mname\u001b[0m\u001b[0;34m=\u001b[0m\u001b[0;34m'sentence_not'\u001b[0m\u001b[0;34m)\u001b[0m\u001b[0;34m(\u001b[0m\u001b[0mlstm2\u001b[0m\u001b[0;34m)\u001b[0m\u001b[0;34m\u001b[0m\u001b[0m\n\u001b[1;32m     11\u001b[0m \u001b[0mmodel_3\u001b[0m \u001b[0;34m=\u001b[0m \u001b[0mModel\u001b[0m\u001b[0;34m(\u001b[0m\u001b[0minputs\u001b[0m\u001b[0;34m=\u001b[0m \u001b[0mmodel_2\u001b[0m\u001b[0;34m.\u001b[0m\u001b[0minputs\u001b[0m\u001b[0;34m,\u001b[0m \u001b[0moutputs\u001b[0m \u001b[0;34m=\u001b[0m \u001b[0;34m[\u001b[0m\u001b[0mnext_word\u001b[0m\u001b[0;34m,\u001b[0m\u001b[0msentence_not\u001b[0m\u001b[0;34m]\u001b[0m\u001b[0;34m)\u001b[0m\u001b[0;34m\u001b[0m\u001b[0m\n",
      "\u001b[0;32m/Users/karthikeyakaushik/anaconda3/envs/dora/lib/python2.7/site-packages/keras/backend/tensorflow_backend.pyc\u001b[0m in \u001b[0;36msymbolic_fn_wrapper\u001b[0;34m(*args, **kwargs)\u001b[0m\n\u001b[1;32m     73\u001b[0m         \u001b[0;32mif\u001b[0m \u001b[0m_SYMBOLIC_SCOPE\u001b[0m\u001b[0;34m.\u001b[0m\u001b[0mvalue\u001b[0m\u001b[0;34m:\u001b[0m\u001b[0;34m\u001b[0m\u001b[0m\n\u001b[1;32m     74\u001b[0m             \u001b[0;32mwith\u001b[0m \u001b[0mget_graph\u001b[0m\u001b[0;34m(\u001b[0m\u001b[0;34m)\u001b[0m\u001b[0;34m.\u001b[0m\u001b[0mas_default\u001b[0m\u001b[0;34m(\u001b[0m\u001b[0;34m)\u001b[0m\u001b[0;34m:\u001b[0m\u001b[0;34m\u001b[0m\u001b[0m\n\u001b[0;32m---> 75\u001b[0;31m                 \u001b[0;32mreturn\u001b[0m \u001b[0mfunc\u001b[0m\u001b[0;34m(\u001b[0m\u001b[0;34m*\u001b[0m\u001b[0margs\u001b[0m\u001b[0;34m,\u001b[0m \u001b[0;34m**\u001b[0m\u001b[0mkwargs\u001b[0m\u001b[0;34m)\u001b[0m\u001b[0;34m\u001b[0m\u001b[0m\n\u001b[0m\u001b[1;32m     76\u001b[0m         \u001b[0;32melse\u001b[0m\u001b[0;34m:\u001b[0m\u001b[0;34m\u001b[0m\u001b[0m\n\u001b[1;32m     77\u001b[0m             \u001b[0;32mreturn\u001b[0m \u001b[0mfunc\u001b[0m\u001b[0;34m(\u001b[0m\u001b[0;34m*\u001b[0m\u001b[0margs\u001b[0m\u001b[0;34m,\u001b[0m \u001b[0;34m**\u001b[0m\u001b[0mkwargs\u001b[0m\u001b[0;34m)\u001b[0m\u001b[0;34m\u001b[0m\u001b[0m\n",
      "\u001b[0;32m/Users/karthikeyakaushik/anaconda3/envs/dora/lib/python2.7/site-packages/keras/engine/base_layer.pyc\u001b[0m in \u001b[0;36m__call__\u001b[0;34m(self, inputs, **kwargs)\u001b[0m\n\u001b[1;32m    444\u001b[0m                 \u001b[0;31m# Raise exceptions in case the input is not compatible\u001b[0m\u001b[0;34m\u001b[0m\u001b[0;34m\u001b[0m\u001b[0m\n\u001b[1;32m    445\u001b[0m                 \u001b[0;31m# with the input_spec specified in the layer constructor.\u001b[0m\u001b[0;34m\u001b[0m\u001b[0;34m\u001b[0m\u001b[0m\n\u001b[0;32m--> 446\u001b[0;31m                 \u001b[0mself\u001b[0m\u001b[0;34m.\u001b[0m\u001b[0massert_input_compatibility\u001b[0m\u001b[0;34m(\u001b[0m\u001b[0minputs\u001b[0m\u001b[0;34m)\u001b[0m\u001b[0;34m\u001b[0m\u001b[0m\n\u001b[0m\u001b[1;32m    447\u001b[0m \u001b[0;34m\u001b[0m\u001b[0m\n\u001b[1;32m    448\u001b[0m                 \u001b[0;31m# Collect input shapes to build layer.\u001b[0m\u001b[0;34m\u001b[0m\u001b[0;34m\u001b[0m\u001b[0m\n",
      "\u001b[0;32m/Users/karthikeyakaushik/anaconda3/envs/dora/lib/python2.7/site-packages/keras/engine/base_layer.pyc\u001b[0m in \u001b[0;36massert_input_compatibility\u001b[0;34m(self, inputs)\u001b[0m\n\u001b[1;32m    314\u001b[0m                                  \u001b[0;34m'Received type: '\u001b[0m \u001b[0;34m+\u001b[0m\u001b[0;34m\u001b[0m\u001b[0m\n\u001b[1;32m    315\u001b[0m                                  \u001b[0mstr\u001b[0m\u001b[0;34m(\u001b[0m\u001b[0mtype\u001b[0m\u001b[0;34m(\u001b[0m\u001b[0mx\u001b[0m\u001b[0;34m)\u001b[0m\u001b[0;34m)\u001b[0m \u001b[0;34m+\u001b[0m \u001b[0;34m'. Full input: '\u001b[0m \u001b[0;34m+\u001b[0m\u001b[0;34m\u001b[0m\u001b[0m\n\u001b[0;32m--> 316\u001b[0;31m                                  \u001b[0mstr\u001b[0m\u001b[0;34m(\u001b[0m\u001b[0minputs\u001b[0m\u001b[0;34m)\u001b[0m \u001b[0;34m+\u001b[0m \u001b[0;34m'. All inputs to the layer '\u001b[0m\u001b[0;34m\u001b[0m\u001b[0m\n\u001b[0m\u001b[1;32m    317\u001b[0m                                  'should be tensors.')\n\u001b[1;32m    318\u001b[0m \u001b[0;34m\u001b[0m\u001b[0m\n",
      "\u001b[0;31mValueError\u001b[0m: Layer next_word was called with an input that isn't a symbolic tensor. Received type: <class 'keras.layers.recurrent.LSTM'>. Full input: [<keras.layers.recurrent.LSTM object at 0xb4967f5d0>]. All inputs to the layer should be tensors."
     ]
    }
   ],
   "source": [
    "# model 3\n",
    "PID = 11\n",
    "model_2 = load_model(filename_2)\n",
    "pn = model_2.layers[-1].output # phrase or not signal\n",
    "full_signal = model_2.layers[-3].output\n",
    "abs_pn = Lambda(lambda x : K.clip(x,0.1,.8))(pn)\n",
    "inhibited_phrase = multiply([full_signal,abs_pn],name='inhibited_phrase')\n",
    "lstm2 = LSTM(100, return_sequences=True, name='lstm2')(inhibited_phrase)\n",
    "next_word = Dense(334, name='next_word')(lstm2)\n",
    "sentence_not = Dense(1,name='sentence_not')(lstm2)\n",
    "model_3 = Model(inputs= model_2.inputs, outputs = [next_word,sentence_not])\n",
    "model_3.summary()\n"
   ]
  },
  {
   "cell_type": "code",
   "execution_count": 47,
   "metadata": {},
   "outputs": [
    {
     "data": {
      "image/png": "[encoded data removed]",
      "text/plain": [
       "<IPython.core.display.Image object>"
      ]
     },
     "execution_count": 47,
     "metadata": {},
     "output_type": "execute_result"
    }
   ],
   "source": [
    "from keras.utils import plot_model\n",
    "plot_model(model_3, to_file='Data/models/model_3.png')"
   ]
  },
  {
   "cell_type": "code",
   "execution_count": 31,
   "metadata": {},
   "outputs": [
    {
     "data": {
      "text/plain": [
       "\"\\nphrase_or_not = initializers.Ones()\\nabs_phrase_or_not = Lambda(lambda x : K.clip(x,0.1,.8))(phrase_or_not) # to be used as inhibitory signal, clipped\\ninhibited_op = multiply([lstm_1_op,abs_phrase_or_not],name='inhibited_phrase') # apply inhibitory signal on lstm layer\\nlstm2 = LSTM(100, return_sequences=True, name='lstm2')(inhibited_op) # create new lstm layer, supply inhibted output to it\\nnext_word = Dense(334, name='next_word')(lstm2) # the last one is for sentence/not sentence prediction\\nphrase_or_not = Dense(1,name='phrase_not')(lstm2)\\nmodel_2 = Model(inputs=model_1.input,outputs=[next_word,phrase_or_not])\\n#model_2.layers[1].trainable = False # make the two layers(lstm1, and phrase_not) non trainable - keep weights from before\\n#model_2.layers[2].trainable = False\\nmodel_2.summary()\\n#model_2.compile(loss=['mean_squared_error','binary_crossentropy'], optimizer='adam')\\n\\n#train_data_gen = participants_gen(p_id=PID,synt_out=False,wave_out=False,train_gen=True,repeat_words=False,train_what='sentence')\\n#model_2.fit_generator(generator=train_data_gen, steps_per_epoch=100, epochs=10,\\n#                                         verbose=1)\\n\""
      ]
     },
     "execution_count": 31,
     "metadata": {},
     "output_type": "execute_result"
    }
   ],
   "source": [
    "'''\n",
    "Specs of model 2 :\n",
    " - Takes as input the same structure as model_1 ie.,repeated word embeddings\n",
    " - Uses the trained model_1 as one hidden layer\n",
    " - takes the hidden state of model_1 (lstm1) as input to another lstm layer\n",
    " - the output of lstm_2 is used to predict both p/np and next word.\n",
    " - p/np is initialised for first time step\n",
    " - The p/np is used as feedback, and multiplied with output from lstm_1\n",
    "'''\n",
    "PID = 11\n",
    "model_1 = load_model(filename_1)\n",
    "lstm_1_op = model_1.layers[-2].output # use lstm's output\n",
    "inhibition_signal = K.ones(shape=(1)) \n",
    "inhibited_phrase = multiply([lstm_1_op,inhibition_signal],name='inhibited_phrase')\n",
    "lstm2 = LSTM(100, return_sequences=True, name='lstm2')(inhibited_phrase)\n",
    "next_word = Dense(334, name='next_word')(lstm2)\n",
    "phrase_not = Dense(1,name='phrase_not')(lstm2)\n",
    "abs_phrase_not = Lambda(lambda x : K.clip(x,0.1,.8))(phrase_not)\n",
    "for i in range(1,20):\n",
    "    # loop unroll\n",
    "    inhibition_signal = abs_phrase_not\n",
    "    \n",
    "\n",
    "#model_2 = Model(inputs=model_1.inputs,outputs=[next_word,phrase_not])    \n",
    "\n",
    "\n",
    "\n",
    "'''\n",
    "n = K.variable(np.ones((20,334)))\n",
    "lstm_1_op = model_1.layers[-2].output # use lstm's output\n",
    "inhibited_phrase = Input(shape=(20, 334), dtype='float32', name='inhibited_phrase',tensor=n)\n",
    "lstm2 = LSTM(100, return_sequences=True, name='lstm2')(inhibited_phrase) # create new lstm layer, supply inhibted output to it\n",
    "next_word = Dense(334, name='next_word')(lstm2) # the last one is for sentence/not sentence prediction\n",
    "phrase_or_not = Dense(1,name='phrase_not')(lstm2)\n",
    "abs_phrase_or_not = Lambda(lambda x : K.clip(x,0.1,.8))(phrase_or_not) # to be used as inhibitory signal, clipped\n",
    "inhibited_phrase = multiply([lstm_1_op,abs_phrase_or_not],name='inhibited_phrase') # apply inhibitory signal on lstm layer\n",
    "model_2 = Model(inputs=inhibited_phrase,outputs=[next_word,phrase_or_not])\n",
    "model_2.summary()\n",
    "'''\n",
    "'''\n",
    "phrase_or_not = initializers.Ones()\n",
    "abs_phrase_or_not = Lambda(lambda x : K.clip(x,0.1,.8))(phrase_or_not) # to be used as inhibitory signal, clipped\n",
    "inhibited_op = multiply([lstm_1_op,abs_phrase_or_not],name='inhibited_phrase') # apply inhibitory signal on lstm layer\n",
    "lstm2 = LSTM(100, return_sequences=True, name='lstm2')(inhibited_op) # create new lstm layer, supply inhibted output to it\n",
    "next_word = Dense(334, name='next_word')(lstm2) # the last one is for sentence/not sentence prediction\n",
    "phrase_or_not = Dense(1,name='phrase_not')(lstm2)\n",
    "model_2 = Model(inputs=model_1.input,outputs=[next_word,phrase_or_not])\n",
    "#model_2.layers[1].trainable = False # make the two layers(lstm1, and phrase_not) non trainable - keep weights from before\n",
    "#model_2.layers[2].trainable = False\n",
    "model_2.summary()\n",
    "#model_2.compile(loss=['mean_squared_error','binary_crossentropy'], optimizer='adam')\n",
    "\n",
    "#train_data_gen = participants_gen(p_id=PID,synt_out=False,wave_out=False,train_gen=True,repeat_words=False,train_what='sentence')\n",
    "#model_2.fit_generator(generator=train_data_gen, steps_per_epoch=100, epochs=10,\n",
    "#                                         verbose=1)\n",
    "'''"
   ]
  },
  {
   "cell_type": "code",
   "execution_count": 34,
   "metadata": {},
   "outputs": [
    {
     "data": {
      "text/plain": [
       "<tf.Tensor 'inhibited_phrase_34/mul:0' shape=(None, 20, 100) dtype=float32>"
      ]
     },
     "execution_count": 34,
     "metadata": {},
     "output_type": "execute_result"
    }
   ],
   "source": []
  },
  {
   "cell_type": "code",
   "execution_count": null,
   "metadata": {},
   "outputs": [],
   "source": []
  }
 ],
 "metadata": {
  "kernelspec": {
   "display_name": "Python 3",
   "language": "python",
   "name": "python3"
  }
 },
 "nbformat": 4,
 "nbformat_minor": 2
}
